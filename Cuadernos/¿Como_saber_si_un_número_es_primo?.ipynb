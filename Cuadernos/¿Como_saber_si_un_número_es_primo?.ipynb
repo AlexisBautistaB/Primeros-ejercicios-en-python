{
  "nbformat": 4,
  "nbformat_minor": 0,
  "metadata": {
    "colab": {
      "name": "¿Como saber si un número es primo?.ipynb",
      "provenance": [],
      "collapsed_sections": [],
      "include_colab_link": true
    },
    "kernelspec": {
      "name": "python3",
      "display_name": "Python 3"
    }
  },
  "cells": [
    {
      "cell_type": "markdown",
      "metadata": {
        "id": "view-in-github",
        "colab_type": "text"
      },
      "source": [
        "<a href=\"https://colab.research.google.com/github/AlexisBautistaB/Primeros-ejercicios-en-python/blob/main/Cuadernos/%C2%BFComo_saber_si_un_n%C3%BAmero_es_primo%3F.ipynb\" target=\"_parent\"><img src=\"https://colab.research.google.com/assets/colab-badge.svg\" alt=\"Open In Colab\"/></a>"
      ]
    },
    {
      "cell_type": "markdown",
      "metadata": {
        "id": "7AQK5PKqaLrZ"
      },
      "source": [
        "# ¿Como saber si un número es primo?\n",
        "\n",
        "GitHub: [AlexisBautistaB](https://github.com/AlexisBautistaB)\n",
        "\n",
        "Twitter: [@BautistaBAlexis](https://twitter.com/BautistaBAlexis)\n",
        "\n",
        "Instagram: [@alexisby9](https://www.instagram.com/alexisby9/?hl=es-la)\n",
        "\n",
        "Para empezar debemos de saber que un número primo:\n",
        "\n",
        "*   Unicamente es divisible entre el mismo y el uno.\n",
        "*   Es un número natural mayor que 1.\n",
        "\n",
        "Teniendo esto en cuenta podemos desarrollar un algoritmo y será el siguiente:\n",
        "\n",
        "*   El usuario introduce un número.\n",
        "*   Dividiremos el número entre número menos uno y así dividir hasta llegar a el número entre dos que esa sería la ultima división.\n",
        "*   Si en alguna division el modulo es cero el número no es primo.\n",
        "*   Notificar al usuario la respuesta."
      ]
    },
    {
      "cell_type": "code",
      "metadata": {
        "id": "HzziwDXJhYsx"
      },
      "source": [
        "print(\"Este programa te dice si un número es primo\") #Explica al usuario que hace el programa\n",
        "numero_usuario = input(\"Introduce un número: \")      #El usuario introduce un numero\n",
        "num = int(numero_usuario)                            #Cast de str a int\n",
        "n_div = 0                                            #Variable contenedora para almacenar cuantos divisores tiene el número\n",
        "\n",
        "for num_divisor in range(num-1,1,-1):                #Iteración para el número entre el número menos uno hasta dividir el número entre dos que esa sería la ultima división.\n",
        "  residuo = num%num_divisor                          #Resido de la división de el número del usuario entre el número en decremento\n",
        "  if residuo == 0 :                                  #Condicional para determinar si no es un número primo\n",
        "    n_div = n_div + 1                                #Si un número no es primo se incrementa en uno la variable contenedora para almacenar cuantos divisores tiene el número\n",
        "\n",
        "if n_div == 0 :                                      #Si el número no tiene ninguna división valida es un número primo\n",
        "  print(\"El número\",num,\"es un numero primo\")        #informar al usuario si es un número primo\n",
        "elif n_div != 0:                                     #Si el número tiene alguna división valida no es un número primo\n",
        "  print(\"El número\",num,\"no es un numero primo\")     #informar al usuario si no es un número primo"
      ],
      "execution_count": null,
      "outputs": []
    }
  ]
}