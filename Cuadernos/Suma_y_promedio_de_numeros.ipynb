{
  "nbformat": 4,
  "nbformat_minor": 0,
  "metadata": {
    "colab": {
      "name": "Suma y promedio de numeros.ipynb",
      "provenance": [],
      "collapsed_sections": [],
      "authorship_tag": "ABX9TyPTfMvL+dj5njvTwdaRQA1L",
      "include_colab_link": true
    },
    "kernelspec": {
      "name": "python3",
      "display_name": "Python 3"
    }
  },
  "cells": [
    {
      "cell_type": "markdown",
      "metadata": {
        "id": "view-in-github",
        "colab_type": "text"
      },
      "source": [
        "<a href=\"https://colab.research.google.com/github/AlexisBautistaB/Primeros-ejercicios-en-python/blob/main/Cuadernos/Suma_y_promedio_de_numeros.ipynb\" target=\"_parent\"><img src=\"https://colab.research.google.com/assets/colab-badge.svg\" alt=\"Open In Colab\"/></a>"
      ]
    },
    {
      "cell_type": "markdown",
      "metadata": {
        "id": "8WTbxLgnAn3I"
      },
      "source": [
        "# ¿Cómo calcular un promedio de x números ?\n",
        "\n",
        "GitHub: [AlexisBautistaB](https://github.com/AlexisBautistaB)\n",
        "\n",
        "Twitter: [@BautistaBAlexis](https://twitter.com/BautistaBAlexis)\n",
        "\n",
        "Instagram: [@alexisby9](https://www.instagram.com/alexisby9/?hl=es-la)"
      ]
    },
    {
      "cell_type": "markdown",
      "metadata": {
        "id": "PPvXsyI8EKAW"
      },
      "source": [
        "###Primero hay que plantear nuestro algoritmo\n",
        "\n",
        "\n",
        "*   Pedir números al usuario hasta que el quiera.\n",
        "*   Convertir los datos de str a float.\n",
        "*   Sumar esos números.\n",
        "*   Promediar los números.\n",
        "*   Informar al usuario los resultados.\n",
        "\n"
      ]
    },
    {
      "cell_type": "markdown",
      "metadata": {
        "id": "uonHFFwAcruI"
      },
      "source": [
        "##Código en Python"
      ]
    },
    {
      "cell_type": "code",
      "metadata": {
        "id": "-y7dqqHqUMBF"
      },
      "source": [
        "#Nombre de la lista que contendrá los números\n",
        "numeros = []\n",
        "#Darle instrucciones al usuario\n",
        "print(\"Introduce los números que quieras y cuando quieras parar escribe listo en minusculas\")\n",
        "#Ciclo para pedir numeros infinito\n",
        "while True :\n",
        "  #Crea una variable para almacenar la respuesta del usuario\n",
        "  resp = input(\"Número: \")\n",
        "  if resp == \"listo\" :\n",
        "    break\n",
        "  else :\n",
        "    #Convertir de str a float \n",
        "    r = float(resp)\n",
        "    #El numero covertido a float se agrega al final de la lista\n",
        "    numeros.append(r)\n",
        "    \n"
      ],
      "execution_count": null,
      "outputs": []
    },
    {
      "cell_type": "code",
      "metadata": {
        "id": "e61aH7QmYu6K"
      },
      "source": [
        "#crea variable sumatoria de los numeros\n",
        "sumaNumeros = 0\n",
        "#Ciclo para acceder a los valores de la lista \n",
        "for nums in numeros : \n",
        "  #Suma de los numeros de la lista\n",
        "  sumaNumeros += nums\n"
      ],
      "execution_count": 76,
      "outputs": []
    },
    {
      "cell_type": "code",
      "metadata": {
        "id": "2jXu9k8laYNN"
      },
      "source": [
        "#Formula para el promedio\n",
        "promedio = sumaNumeros/len(numeros)\n",
        "#Informar resultados\n",
        "print(\"Tu suma de los numeros es:\",sumaNumeros)\n",
        "print(\"Tu promedio es este:\",promedio)"
      ],
      "execution_count": null,
      "outputs": []
    }
  ]
}